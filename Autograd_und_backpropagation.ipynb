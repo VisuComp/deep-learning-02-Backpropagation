{
 "cells": [
  {
   "cell_type": "markdown",
   "id": "6066ac9e",
   "metadata": {},
   "source": [
    "## AutoGrad in PyTorch\n",
    "\n",
    "In diesem Praxisbeispiel schauen wir uns an, wie PyTorch mittels AutoGrad die Gradienten eines Modells berechnet.\n"
   ]
  },
  {
   "cell_type": "code",
   "execution_count": 1,
   "id": "977a706e",
   "metadata": {},
   "outputs": [],
   "source": [
    "import torch\n",
    "from torch.autograd import grad\n",
    "import torch.nn.functional as F\n"
   ]
  },
  {
   "cell_type": "markdown",
   "id": "04c542d6",
   "metadata": {},
   "source": [
    "Torch wird jeden Tensor, der den Parameter **requires_grad** auf **True** gesetzt hat als Variable betrachten, die es zu optimieren gilt. Ist dieser Wert nicht gesetzt, wird der Tensor als konstant angenommen."
   ]
  },
  {
   "cell_type": "markdown",
   "id": "0bc05aed",
   "metadata": {},
   "source": [
    "Wir definieren uns ein Minimal-Neuronales-Netz mit einem Eingangsneuron:\n",
    "a = ReLU(wx+b)"
   ]
  },
  {
   "cell_type": "code",
   "execution_count": 2,
   "id": "923df09b",
   "metadata": {},
   "outputs": [],
   "source": [
    "x = torch.tensor([3.])\n",
    "w = torch.tensor([2.], requires_grad=True)\n",
    "b = torch.tensor([1.], requires_grad=True)\n",
    "\n",
    "# Inference mit x=3.\n",
    "m = w*x + b\n",
    "a = F.relu(m)"
   ]
  },
  {
   "cell_type": "markdown",
   "id": "88822056",
   "metadata": {},
   "source": [
    "Wir wollen in diesem Fall die Einheitsfunktion als Loss-Funktion verwenden (anders gesagt: Wir verwenden keine Loss-Funktion, sondern wollen den Output des Netzwerks minimieren."
   ]
  },
  {
   "cell_type": "markdown",
   "id": "f4dd96e8",
   "metadata": {},
   "source": [
    "## Aufgabe: Erstelle einen SGD-Optimizer und setzen Sie die Gradienten der Parameter zu Null."
   ]
  },
  {
   "cell_type": "code",
   "execution_count": 5,
   "id": "977445b0",
   "metadata": {},
   "outputs": [],
   "source": [
    "optim = ..."
   ]
  },
  {
   "cell_type": "code",
   "execution_count": null,
   "id": "9be5b025",
   "metadata": {
    "tags": [
     "hidden"
    ]
   },
   "outputs": [],
   "source": [
    "# Test für Aufgabe 1\n",
    "# Wenn Du alles richtig gemacht hast, sollte dieser Test jetzt keine Fehler erzeugen.\n",
    "from exercise_test import test_aufgabe1\n",
    "test_aufgabe1(locals())\n"
   ]
  },
  {
   "cell_type": "markdown",
   "id": "5a0b2ed0",
   "metadata": {},
   "source": [
    "### Führe nun die Backpropagation mit der backward()-Funktion durch."
   ]
  },
  {
   "cell_type": "code",
   "execution_count": 7,
   "id": "d4f3d95c",
   "metadata": {},
   "outputs": [],
   "source": []
  },
  {
   "cell_type": "markdown",
   "id": "9f969418",
   "metadata": {},
   "source": [
    "### Schaue, welche Gradienten in den Parametern w und b aufgelaufen sind:"
   ]
  },
  {
   "cell_type": "code",
   "execution_count": null,
   "id": "b9425c5a",
   "metadata": {},
   "outputs": [],
   "source": []
  },
  {
   "cell_type": "markdown",
   "id": "e233bd90",
   "metadata": {},
   "source": [
    "### Führe nochmals eine Inference und einen Backward-Pass durch und schauen Sie erneut die Gradienten an.\n",
    "\n",
    "Was erkennen wir dabei?"
   ]
  },
  {
   "cell_type": "code",
   "execution_count": null,
   "id": "328325f2",
   "metadata": {},
   "outputs": [],
   "source": [
    "# Dein Code"
   ]
  },
  {
   "cell_type": "markdown",
   "id": "6acf591d",
   "metadata": {},
   "source": [
    "## Aufgabe: Welche Veränderung erwartest Du für beide Parameter nach einem Schritt des Optimizers? \n",
    "\n",
    "Berechne diese von Hand."
   ]
  },
  {
   "cell_type": "code",
   "execution_count": 10,
   "id": "0e1d84e1",
   "metadata": {},
   "outputs": [],
   "source": [
    "# Dein Code\n",
    "# \n",
    "erwartet_w = ...\n",
    "erwartet_b = ..."
   ]
  },
  {
   "cell_type": "code",
   "execution_count": null,
   "id": "4eb770f7",
   "metadata": {},
   "outputs": [],
   "source": [
    "# Test für Aufgabe 2\n",
    "# Wenn Du alles richtig gemacht hast, sollte dieser Test jetzt keine Fehler erzeugen.\n",
    "from exercise_test import test_aufgabe2\n",
    "test_aufgabe2(locals())\n"
   ]
  },
  {
   "cell_type": "markdown",
   "id": "050e0146",
   "metadata": {},
   "source": [
    "## Aufgabe: Führe nun optimizer.step() durch und kontrollieren Sie, ob Sie richtig lagen."
   ]
  },
  {
   "cell_type": "code",
   "execution_count": null,
   "id": "dbcbe135",
   "metadata": {},
   "outputs": [],
   "source": [
    "# Dein Code"
   ]
  },
  {
   "cell_type": "code",
   "execution_count": null,
   "id": "61a41ea1",
   "metadata": {},
   "outputs": [],
   "source": [
    "# Test für Aufgabe 3\n",
    "# Wenn Du alles richtig gemacht hast, sollte dieser Test jetzt keine Fehler erzeugen.\n",
    "from exercise_test import test_aufgabe3\n",
    "test_aufgabe3(locals())\n"
   ]
  }
 ],
 "metadata": {
  "kernelspec": {
   "display_name": "=/Users/marcaubreville/miniconda_m1/bin/python3",
   "language": "python",
   "name": "python3"
  },
  "language_info": {
   "codemirror_mode": {
    "name": "ipython",
    "version": 3
   },
   "file_extension": ".py",
   "mimetype": "text/x-python",
   "name": "python",
   "nbconvert_exporter": "python",
   "pygments_lexer": "ipython3",
   "version": "3.11.9"
  }
 },
 "nbformat": 4,
 "nbformat_minor": 5
}
